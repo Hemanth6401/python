{
 "cells": [
  {
   "cell_type": "code",
   "execution_count": 1,
   "id": "b3ae0ae2",
   "metadata": {},
   "outputs": [
    {
     "ename": "SyntaxError",
     "evalue": "invalid syntax (3877832166.py, line 1)",
     "output_type": "error",
     "traceback": [
      "\u001b[1;36m  Cell \u001b[1;32mIn[1], line 1\u001b[1;36m\u001b[0m\n\u001b[1;33m    START->ANACONDA PROMPT->RUN AS ADMINSTRATOR->JUPYTER NOTEBOOK\u001b[0m\n\u001b[1;37m         ^\u001b[0m\n\u001b[1;31mSyntaxError\u001b[0m\u001b[1;31m:\u001b[0m invalid syntax\n"
     ]
    }
   ],
   "source": [
    "START->ANACONDA PROMPT->RUN AS ADMINSTRATOR->JUPYTER NOTEBOOK\n",
    "NEW->PYTHON 3\n"
   ]
  },
  {
   "cell_type": "markdown",
   "id": "0f7a2dea",
   "metadata": {},
   "source": [
    "### Hello World"
   ]
  },
  {
   "cell_type": "markdown",
   "id": "db36848a",
   "metadata": {},
   "source": [
    "### hemanth praveen"
   ]
  },
  {
   "cell_type": "markdown",
   "id": "86b30c4c",
   "metadata": {},
   "source": [
    "#### Hello world"
   ]
  },
  {
   "cell_type": "markdown",
   "id": "636d7909",
   "metadata": {},
   "source": [
    "##### Helloahsbxxjah"
   ]
  },
  {
   "cell_type": "markdown",
   "id": "f37389ea",
   "metadata": {},
   "source": [
    "###### DAta science\n"
   ]
  },
  {
   "cell_type": "markdown",
   "id": "ffc7ac9c",
   "metadata": {},
   "source": [
    "####### Data science\n"
   ]
  },
  {
   "cell_type": "markdown",
   "id": "a9eb1c94",
   "metadata": {},
   "source": [
    "####### Data science"
   ]
  },
  {
   "cell_type": "markdown",
   "id": "d4ef5356",
   "metadata": {},
   "source": [
    "###### Data science"
   ]
  },
  {
   "cell_type": "markdown",
   "id": "b6750927",
   "metadata": {},
   "source": [
    "####### DAta science"
   ]
  },
  {
   "cell_type": "code",
   "execution_count": 2,
   "id": "87e48844",
   "metadata": {},
   "outputs": [
    {
     "name": "stdout",
     "output_type": "stream",
     "text": [
      "hello world      \n"
     ]
    }
   ],
   "source": [
    "print(\"hello world      \")\n"
   ]
  },
  {
   "cell_type": "code",
   "execution_count": null,
   "id": "fcda8708",
   "metadata": {},
   "outputs": [],
   "source": []
  },
  {
   "cell_type": "code",
   "execution_count": 4,
   "id": "b97b348b",
   "metadata": {},
   "outputs": [
    {
     "name": "stdout",
     "output_type": "stream",
     "text": [
      "data science\n"
     ]
    }
   ],
   "source": [
    "print(\"data science\")"
   ]
  },
  {
   "cell_type": "code",
   "execution_count": 5,
   "id": "4d78459e",
   "metadata": {},
   "outputs": [
    {
     "data": {
      "text/plain": [
       "('hemanth', 'prem')"
      ]
     },
     "execution_count": 5,
     "metadata": {},
     "output_type": "execute_result"
    }
   ],
   "source": [
    "namelist=\"hemanth\",\"prem\"\n",
    "namelist\n"
   ]
  },
  {
   "cell_type": "code",
   "execution_count": 6,
   "id": "bad127ca",
   "metadata": {},
   "outputs": [
    {
     "ename": "SyntaxError",
     "evalue": "invalid syntax (66078792.py, line 1)",
     "output_type": "error",
     "traceback": [
      "\u001b[1;36m  Cell \u001b[1;32mIn[6], line 1\u001b[1;36m\u001b[0m\n\u001b[1;33m    name list=\"hemanth\"\u001b[0m\n\u001b[1;37m         ^\u001b[0m\n\u001b[1;31mSyntaxError\u001b[0m\u001b[1;31m:\u001b[0m invalid syntax\n"
     ]
    }
   ],
   "source": [
    "name list=\"hemanth\""
   ]
  },
  {
   "cell_type": "code",
   "execution_count": 7,
   "id": "fff4750b",
   "metadata": {},
   "outputs": [
    {
     "ename": "SyntaxError",
     "evalue": "cannot assign to expression here. Maybe you meant '==' instead of '='? (1373162906.py, line 1)",
     "output_type": "error",
     "traceback": [
      "\u001b[1;36m  Cell \u001b[1;32mIn[7], line 1\u001b[1;36m\u001b[0m\n\u001b[1;33m    name+list=\"hemanth\"\u001b[0m\n\u001b[1;37m    ^\u001b[0m\n\u001b[1;31mSyntaxError\u001b[0m\u001b[1;31m:\u001b[0m cannot assign to expression here. Maybe you meant '==' instead of '='?\n"
     ]
    }
   ],
   "source": [
    "name+list=\"hemanth\""
   ]
  },
  {
   "cell_type": "code",
   "execution_count": 9,
   "id": "9319befb",
   "metadata": {},
   "outputs": [
    {
     "data": {
      "text/plain": [
       "'hemanth'"
      ]
     },
     "execution_count": 9,
     "metadata": {},
     "output_type": "execute_result"
    }
   ],
   "source": [
    "name_list=\"hemanth\"\n",
    "name_list"
   ]
  },
  {
   "cell_type": "code",
   "execution_count": 10,
   "id": "0c11d9b5",
   "metadata": {},
   "outputs": [
    {
     "data": {
      "text/plain": [
       "'kavya'"
      ]
     },
     "execution_count": 10,
     "metadata": {},
     "output_type": "execute_result"
    }
   ],
   "source": [
    "name=\"hemanth\"\n",
    "name=\"kavya\"\n",
    "name\n"
   ]
  },
  {
   "cell_type": "code",
   "execution_count": 12,
   "id": "e5f82abf",
   "metadata": {},
   "outputs": [
    {
     "name": "stdout",
     "output_type": "stream",
     "text": [
      "10\n"
     ]
    },
    {
     "data": {
      "text/plain": [
       "10"
      ]
     },
     "execution_count": 12,
     "metadata": {},
     "output_type": "execute_result"
    }
   ],
   "source": [
    "x=y=z=10\n",
    "print(x)\n",
    "z"
   ]
  },
  {
   "cell_type": "code",
   "execution_count": 13,
   "id": "b59a9887",
   "metadata": {},
   "outputs": [
    {
     "name": "stdout",
     "output_type": "stream",
     "text": [
      "1 2 3\n"
     ]
    }
   ],
   "source": [
    "x,y,z=1,2,3\n",
    "print(x,y,z)"
   ]
  },
  {
   "cell_type": "code",
   "execution_count": 14,
   "id": "9223da7d",
   "metadata": {},
   "outputs": [
    {
     "name": "stdout",
     "output_type": "stream",
     "text": [
      "charles\n"
     ]
    },
    {
     "data": {
      "text/plain": [
       "str"
      ]
     },
     "execution_count": 14,
     "metadata": {},
     "output_type": "execute_result"
    }
   ],
   "source": [
    "name=\"charles\"\n",
    "print(name)\n",
    "type(name)"
   ]
  },
  {
   "cell_type": "code",
   "execution_count": 16,
   "id": "c09347bc",
   "metadata": {},
   "outputs": [
    {
     "data": {
      "text/plain": [
       "3.3333333333333335"
      ]
     },
     "execution_count": 16,
     "metadata": {},
     "output_type": "execute_result"
    }
   ],
   "source": [
    "x=10\n",
    "y=3\n",
    "x/y\n"
   ]
  },
  {
   "cell_type": "code",
   "execution_count": 25,
   "id": "a34ce16a",
   "metadata": {},
   "outputs": [
    {
     "ename": "ValueError",
     "evalue": "could not convert string to float: 'abcd'",
     "output_type": "error",
     "traceback": [
      "\u001b[1;31m---------------------------------------------------------------------------\u001b[0m",
      "\u001b[1;31mValueError\u001b[0m                                Traceback (most recent call last)",
      "Cell \u001b[1;32mIn[25], line 2\u001b[0m\n\u001b[0;32m      1\u001b[0m x\u001b[38;5;241m=\u001b[39m\u001b[38;5;124m\"\u001b[39m\u001b[38;5;124mabcd\u001b[39m\u001b[38;5;124m\"\u001b[39m\n\u001b[1;32m----> 2\u001b[0m \u001b[38;5;28;43mfloat\u001b[39;49m\u001b[43m(\u001b[49m\u001b[43mx\u001b[49m\u001b[43m)\u001b[49m\n\u001b[0;32m      3\u001b[0m \u001b[38;5;28mint\u001b[39m(x)\n",
      "\u001b[1;31mValueError\u001b[0m: could not convert string to float: 'abcd'"
     ]
    }
   ],
   "source": [
    "x=\"abcd\"\n",
    "float(x)\n",
    "int(x)\n"
   ]
  },
  {
   "cell_type": "code",
   "execution_count": null,
   "id": "22637e3c",
   "metadata": {},
   "outputs": [],
   "source": []
  }
 ],
 "metadata": {
  "kernelspec": {
   "display_name": "Python 3 (ipykernel)",
   "language": "python",
   "name": "python3"
  },
  "language_info": {
   "codemirror_mode": {
    "name": "ipython",
    "version": 3
   },
   "file_extension": ".py",
   "mimetype": "text/x-python",
   "name": "python",
   "nbconvert_exporter": "python",
   "pygments_lexer": "ipython3",
   "version": "3.10.9"
  }
 },
 "nbformat": 4,
 "nbformat_minor": 5
}
